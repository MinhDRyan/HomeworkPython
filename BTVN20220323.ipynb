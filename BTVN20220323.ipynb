{
 "cells": [
  {
   "cell_type": "code",
   "execution_count": 72,
   "id": "df4bad40",
   "metadata": {},
   "outputs": [
    {
     "name": "stdout",
     "output_type": "stream",
     "text": [
      "A,B,C là tam giác:  True\n",
      "A,B,C là tam giác đều:  False\n",
      "A,B,C là tam giác cân:  True\n",
      "A,B,C là tam giác vuông:  True\n"
     ]
    },
    {
     "data": {
      "text/plain": [
       "'C:\\\\Users\\\\LENOVO\\\\Pythonlearning'"
      ]
     },
     "execution_count": 72,
     "metadata": {},
     "output_type": "execute_result"
    }
   ],
   "source": [
    "#2. Khai báo các biến để lưu tọa độ (x, y) của 3 điểm A,B,C. \n",
    "#Khởi tạo các giá trị cụ thể nào đó cho các biến này. \n",
    "#Lập các biểu thức logic (mang giá trị True hoặc False) để kiểm tra A, B, C có phải 3 đỉnh của 1 tam giác không? \n",
    "#Nếu có kiểm tra nó tam giác thường, cân, vuông, hay đều? \n",
    "#(Chỉ lập biểu thức kiểm tra rồi in ra, kết quả chỉ có True hoặc False)\n",
    "\n",
    "Ax = 1\n",
    "Ay = 1\n",
    "Bx = 2\n",
    "By = 1\n",
    "Cx = 1\n",
    "Cy = 2\n",
    "\n",
    "AB = ((Bx - Ax)**2 + (By - Ay)**2)**0.5\n",
    "AC = ((Cx - Ax)**2 + (Cy - Ay)**2)**0.5\n",
    "BC = ((Cx - Bx)**2 + (Cy - By)**2)**0.5\n",
    "\n",
    "duongthang = AB==AC+BC or BC == AB+AC or AC == AB+BC\n",
    "tamgiacdeu = AB==AC and AB==BC and AC==BC\n",
    "tamgiaccan = AB==AC or  AC==BC or  AC==BC\n",
    "tamgiacvuong = AB==(BC**2+AC**2)**0.5 or AC==(AB**2+AC**2)**0.5 or BC==(AB**2+AC**2)**0.5 \n",
    "\n",
    "\n",
    "\n",
    "print ('A,B,C là tam giác: ', not duongthang)\n",
    "print ('A,B,C là tam giác đều: ',  tamgiacdeu)\n",
    "print ('A,B,C là tam giác cân: ',  tamgiaccan)\n",
    "print ('A,B,C là tam giác vuông: ',  tamgiacvuong)\n",
    "\n",
    "import os\n",
    "\n",
    "os.getcwd()\n"
   ]
  },
  {
   "cell_type": "code",
   "execution_count": 60,
   "id": "12e664d3",
   "metadata": {},
   "outputs": [
    {
     "name": "stdout",
     "output_type": "stream",
     "text": [
      "hình hộp chữ nhật 111 x 87 x 56 chứa tối đa 19314 hình lập phương có cạnh là 3\n"
     ]
    }
   ],
   "source": [
    "#3: Một hình hộp chữ nhật cứng (không đàn hồi hay bị bóp méo) có chiều dài lần lượt là x = 111, y=87, z = 56. \n",
    "#Một hình lập phương có cạnh là a = 3. Hỏi hình hộp chữ nhật kia có thể chứa tối đa bao nhiêu hình lập phương?\n",
    "\n",
    "x = 111\n",
    "y = 87\n",
    "z = 56\n",
    "\n",
    "a = 3\n",
    "\n",
    "m = (x//a)*(y//a)*(z//a)\n",
    "\n",
    "print ('hình hộp chữ nhật',x,'x',y,'x',z,'chứa tối đa',m, 'hình lập phương có cạnh là',a)\n",
    "\n",
    "    "
   ]
  }
 ],
 "metadata": {
  "kernelspec": {
   "display_name": "Python 3 (ipykernel)",
   "language": "python",
   "name": "python3"
  },
  "language_info": {
   "codemirror_mode": {
    "name": "ipython",
    "version": 3
   },
   "file_extension": ".py",
   "mimetype": "text/x-python",
   "name": "python",
   "nbconvert_exporter": "python",
   "pygments_lexer": "ipython3",
   "version": "3.9.7"
  }
 },
 "nbformat": 4,
 "nbformat_minor": 5
}
